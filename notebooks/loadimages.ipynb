{
 "cells": [
  {
   "cell_type": "code",
   "execution_count": 1,
   "id": "48c979d4",
   "metadata": {},
   "outputs": [],
   "source": [
    "import numpy as np"
   ]
  },
  {
   "cell_type": "code",
   "execution_count": 2,
   "id": "c0a0ac5f",
   "metadata": {},
   "outputs": [],
   "source": [
    "from PIL import Image"
   ]
  },
  {
   "cell_type": "code",
   "execution_count": 3,
   "id": "f62a06d4",
   "metadata": {},
   "outputs": [],
   "source": [
    "img = Image.open('../data/test/103215_sat.jpg')"
   ]
  },
  {
   "cell_type": "code",
   "execution_count": 5,
   "id": "6eea19e1",
   "metadata": {},
   "outputs": [
    {
     "data": {
      "text/plain": [
       "PIL.JpegImagePlugin.JpegImageFile"
      ]
     },
     "execution_count": 5,
     "metadata": {},
     "output_type": "execute_result"
    }
   ],
   "source": [
    "type(img)"
   ]
  },
  {
   "cell_type": "code",
   "execution_count": 6,
   "id": "fe35a838",
   "metadata": {},
   "outputs": [
    {
     "data": {
      "text/plain": [
       "array([[[159, 135, 111],\n",
       "        [152, 128, 104],\n",
       "        [154, 128, 103],\n",
       "        ...,\n",
       "        [121,  88,  57],\n",
       "        [105,  68,  41],\n",
       "        [ 98,  61,  34]],\n",
       "\n",
       "       [[162, 138, 114],\n",
       "        [164, 140, 116],\n",
       "        [169, 143, 120],\n",
       "        ...,\n",
       "        [135, 100,  70],\n",
       "        [118,  81,  54],\n",
       "        [117,  80,  53]],\n",
       "\n",
       "       [[160, 135, 113],\n",
       "        [163, 139, 115],\n",
       "        [167, 141, 118],\n",
       "        ...,\n",
       "        [137, 101,  69],\n",
       "        [121,  84,  55],\n",
       "        [132,  93,  64]],\n",
       "\n",
       "       ...,\n",
       "\n",
       "       [[ 93,  70,  64],\n",
       "        [ 94,  74,  67],\n",
       "        [ 88,  68,  61],\n",
       "        ...,\n",
       "        [ 57,  46,  42],\n",
       "        [ 55,  44,  42],\n",
       "        [ 53,  43,  41]],\n",
       "\n",
       "       [[ 98,  77,  72],\n",
       "        [106,  85,  80],\n",
       "        [ 92,  72,  65],\n",
       "        ...,\n",
       "        [ 62,  53,  48],\n",
       "        [ 63,  53,  51],\n",
       "        [ 61,  53,  50]],\n",
       "\n",
       "       [[ 94,  73,  68],\n",
       "        [ 90,  69,  64],\n",
       "        [ 82,  63,  56],\n",
       "        ...,\n",
       "        [ 56,  47,  42],\n",
       "        [ 57,  49,  46],\n",
       "        [ 61,  53,  50]]], dtype=uint8)"
      ]
     },
     "execution_count": 6,
     "metadata": {},
     "output_type": "execute_result"
    }
   ],
   "source": [
    "np.asarray(img)"
   ]
  },
  {
   "cell_type": "code",
   "execution_count": null,
   "id": "0e600c68",
   "metadata": {},
   "outputs": [],
   "source": []
  }
 ],
 "metadata": {
  "kernelspec": {
   "display_name": "Python 3 (ipykernel)",
   "language": "python",
   "name": "python3"
  },
  "language_info": {
   "codemirror_mode": {
    "name": "ipython",
    "version": 3
   },
   "file_extension": ".py",
   "mimetype": "text/x-python",
   "name": "python",
   "nbconvert_exporter": "python",
   "pygments_lexer": "ipython3",
   "version": "3.10.6"
  },
  "toc": {
   "base_numbering": 1,
   "nav_menu": {},
   "number_sections": true,
   "sideBar": true,
   "skip_h1_title": false,
   "title_cell": "Table of Contents",
   "title_sidebar": "Contents",
   "toc_cell": false,
   "toc_position": {},
   "toc_section_display": true,
   "toc_window_display": false
  }
 },
 "nbformat": 4,
 "nbformat_minor": 5
}
